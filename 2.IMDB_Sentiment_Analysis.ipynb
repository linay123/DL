{
  "cells": [
    {
      "cell_type": "code",
      "source": [
        "import pandas as pd\n",
        "import numpy as np\n",
        "from sklearn.model_selection import train_test_split\n",
        "from tensorflow import keras\n",
        "from tensorflow.keras import layers\n",
        "from tensorflow.keras.preprocessing.text import Tokenizer\n",
        "from tensorflow.keras.preprocessing.sequence import pad_sequences\n",
        "\n",
        "dataset_path = 'IMDB Dataset.csv'\n",
        "\n",
        "df = pd.read_csv(dataset_path)\n",
        "\n",
        "reviews = df['review'].values\n",
        "sentiments = df['sentiment'].values"
      ],
      "metadata": {
        "id": "I9Co7XEau2PT"
      },
      "execution_count": 3,
      "outputs": []
    },
    {
      "cell_type": "code",
      "source": [
        "tokenizer = Tokenizer(num_words=10000)\n",
        "tokenizer.fit_on_texts(reviews)\n",
        "sequences = tokenizer.texts_to_sequences(reviews)"
      ],
      "metadata": {
        "id": "WmYqyWSFvF5e"
      },
      "execution_count": 4,
      "outputs": []
    },
    {
      "cell_type": "code",
      "source": [
        "max_length = 200\n",
        "padded_sequences = pad_sequences(sequences, maxlen=max_length)\n",
        "labels = np.array([1 if sentiment == 'positive' else 0 for sentiment in sentiments])"
      ],
      "metadata": {
        "id": "i5w0Z1-GvF1-"
      },
      "execution_count": 5,
      "outputs": []
    },
    {
      "cell_type": "code",
      "source": [
        "train_data, test_data, train_labels, test_labels = train_test_split(padded_sequences, labels, test_size=0.2, random_state=42)"
      ],
      "metadata": {
        "id": "ce26sIvqvFzE"
      },
      "execution_count": 6,
      "outputs": []
    },
    {
      "cell_type": "code",
      "source": [
        "model = keras.Sequential([\n",
        "    layers.Embedding(10000, 16, input_length=max_length),\n",
        "    layers.GlobalAveragePooling1D(),\n",
        "    layers.Dense(16, activation='relu'),\n",
        "    layers.Dense(1, activation='sigmoid')\n",
        "])\n",
        "\n",
        "model.compile(optimizer='adam', loss='binary_crossentropy', metrics=['accuracy'])\n",
        "\n",
        "model.fit(train_data, train_labels, epochs=10, batch_size=32)"
      ],
      "metadata": {
        "id": "XEJabBCZvFv8",
        "outputId": "4ecf2cdf-39a5-4b06-cfe1-ba8f60f8fe0f",
        "colab": {
          "base_uri": "https://localhost:8080/"
        }
      },
      "execution_count": 7,
      "outputs": [
        {
          "output_type": "stream",
          "name": "stdout",
          "text": [
            "Epoch 1/10\n",
            "1250/1250 [==============================] - 8s 5ms/step - loss: 0.4197 - accuracy: 0.8244\n",
            "Epoch 2/10\n",
            "1250/1250 [==============================] - 7s 6ms/step - loss: 0.2405 - accuracy: 0.9047\n",
            "Epoch 3/10\n",
            "1250/1250 [==============================] - 7s 5ms/step - loss: 0.2044 - accuracy: 0.9214\n",
            "Epoch 4/10\n",
            "1250/1250 [==============================] - 7s 5ms/step - loss: 0.1832 - accuracy: 0.9304\n",
            "Epoch 5/10\n",
            "1250/1250 [==============================] - 7s 6ms/step - loss: 0.1669 - accuracy: 0.9384\n",
            "Epoch 6/10\n",
            "1250/1250 [==============================] - 6s 5ms/step - loss: 0.1559 - accuracy: 0.9420\n",
            "Epoch 7/10\n",
            "1250/1250 [==============================] - 7s 6ms/step - loss: 0.1450 - accuracy: 0.9468\n",
            "Epoch 8/10\n",
            "1250/1250 [==============================] - 6s 5ms/step - loss: 0.1371 - accuracy: 0.9508\n",
            "Epoch 9/10\n",
            "1250/1250 [==============================] - 7s 6ms/step - loss: 0.1302 - accuracy: 0.9535\n",
            "Epoch 10/10\n",
            "1250/1250 [==============================] - 6s 5ms/step - loss: 0.1239 - accuracy: 0.9565\n"
          ]
        },
        {
          "output_type": "execute_result",
          "data": {
            "text/plain": [
              "<keras.callbacks.History at 0x7f2135e28f10>"
            ]
          },
          "metadata": {},
          "execution_count": 7
        }
      ]
    },
    {
      "cell_type": "code",
      "source": [
        "loss, accuracy = model.evaluate(test_data, test_labels)\n",
        "print(f\"Test Loss: {loss}\")\n",
        "print(f\"Test Accuracy: {accuracy}\")"
      ],
      "metadata": {
        "id": "JsO6FSJpvQmk",
        "outputId": "be31226b-6479-4f33-ee70-45ecc353ba7e",
        "colab": {
          "base_uri": "https://localhost:8080/"
        }
      },
      "execution_count": 8,
      "outputs": [
        {
          "output_type": "stream",
          "name": "stdout",
          "text": [
            "313/313 [==============================] - 1s 2ms/step - loss: 0.3998 - accuracy: 0.8688\n",
            "Test Loss: 0.3998126983642578\n",
            "Test Accuracy: 0.8687999844551086\n"
          ]
        }
      ]
    },
    {
      "cell_type": "code",
      "source": [],
      "metadata": {
        "id": "EnCo0S290yKw"
      },
      "execution_count": null,
      "outputs": []
    }
  ],
  "metadata": {
    "colab": {
      "name": "Welcome To Colaboratory",
      "provenance": []
    },
    "kernelspec": {
      "display_name": "Python 3",
      "name": "python3"
    }
  },
  "nbformat": 4,
  "nbformat_minor": 0
}